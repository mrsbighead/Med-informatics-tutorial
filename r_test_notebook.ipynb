{
 "cells": [
  {
   "cell_type": "markdown",
   "metadata": {},
   "source": [
    "# R Notebook - o guia definitivo"
   ]
  },
  {
   "cell_type": "markdown",
   "metadata": {},
   "source": [
    "Para comecar, é necessário importar o dataset que você vai analisar: "
   ]
  },
  {
   "cell_type": "code",
   "execution_count": 4,
   "metadata": {
    "collapsed": true
   },
   "outputs": [],
   "source": [
    "data_country = read.csv(\"/home/ricardo/R/datasets/costs.csv\", header = TRUE, sep = \",\")\n",
    "#atencão com o endereco do arquivo, nao esquecer as aspas\n",
    "#file.choose() abre uma janela pra escolher o arquivo"
   ]
  },
  {
   "cell_type": "code",
   "execution_count": null,
   "metadata": {
    "collapsed": true,
    "scrolled": true
   },
   "outputs": [],
   "source": [
    "data_country"
   ]
  },
  {
   "cell_type": "markdown",
   "metadata": {},
   "source": [
    "Há muitas funcões que podem ser usadas para analisar os dados, por exemplo:"
   ]
  },
  {
   "cell_type": "code",
   "execution_count": null,
   "metadata": {
    "collapsed": true
   },
   "outputs": [],
   "source": [
    "names(data_country)\n",
    "#essa funcão retorna os nomes (names) das variáveis nas colunas"
   ]
  },
  {
   "cell_type": "code",
   "execution_count": null,
   "metadata": {
    "collapsed": true
   },
   "outputs": [],
   "source": [
    "str(data_country)\n",
    "#essa funcão retorna a estrutura (structure): uma descricão do dataframe (df), com o datatype de cada variável"
   ]
  },
  {
   "cell_type": "code",
   "execution_count": null,
   "metadata": {
    "collapsed": true
   },
   "outputs": [],
   "source": [
    "dim(data_country)\n",
    "#essa funcão retorna as dimensões do df"
   ]
  },
  {
   "cell_type": "code",
   "execution_count": null,
   "metadata": {
    "collapsed": true
   },
   "outputs": [],
   "source": [
    "data_country[1:5,]\n",
    "#você pode selecionar uma determinada parte do df usando os squared brackets. "
   ]
  },
  {
   "cell_type": "code",
   "execution_count": null,
   "metadata": {
    "collapsed": true
   },
   "outputs": [],
   "source": [
    "#para selecionar a coluna use '$'\n",
    "data_country$year"
   ]
  },
  {
   "cell_type": "code",
   "execution_count": null,
   "metadata": {
    "collapsed": true
   },
   "outputs": [],
   "source": [
    "#também dá para fazer slicing do dataframe: df[row,column]\n",
    "data_country[,c(1:3,5)]\n",
    "#a funcao c() combina vetores"
   ]
  },
  {
   "cell_type": "code",
   "execution_count": null,
   "metadata": {
    "collapsed": true
   },
   "outputs": [],
   "source": [
    "ls()\n",
    "#esse comando lista todos os objetos do workspace"
   ]
  },
  {
   "cell_type": "code",
   "execution_count": null,
   "metadata": {
    "collapsed": true
   },
   "outputs": [],
   "source": [
    "mean(data_country[,c(3)], na.rm=T)\n",
    "#calcula a média"
   ]
  },
  {
   "cell_type": "code",
   "execution_count": null,
   "metadata": {
    "collapsed": true
   },
   "outputs": [],
   "source": [
    "median(data_country[,c(3)])\n",
    "#calcula a mediana"
   ]
  },
  {
   "cell_type": "code",
   "execution_count": null,
   "metadata": {
    "collapsed": true
   },
   "outputs": [],
   "source": [
    "median(data_country[,c(4)])\n",
    "#nao da certo por causa do 'NA'"
   ]
  },
  {
   "cell_type": "code",
   "execution_count": null,
   "metadata": {
    "collapsed": true
   },
   "outputs": [],
   "source": [
    "median(data_country[,c(3)], na.rm = TRUE)\n",
    "#na.rm = TRUE (remove the NA) - dai funciona pq ele ignora o 'NA'"
   ]
  },
  {
   "cell_type": "markdown",
   "metadata": {},
   "source": [
    "Eventualmente voce pode querer criar seu próprio vetor: "
   ]
  },
  {
   "cell_type": "code",
   "execution_count": null,
   "metadata": {
    "collapsed": true
   },
   "outputs": [],
   "source": [
    "my_vector = c(1,2,3,4)\n",
    "#cria vetor"
   ]
  },
  {
   "cell_type": "code",
   "execution_count": null,
   "metadata": {
    "collapsed": true
   },
   "outputs": [],
   "source": [
    "class(my_vector)\n",
    "#retorna o data type (character, numeric, o)\n",
    "#detalhe: o data type de dataframe é dataframe mesmo"
   ]
  },
  {
   "cell_type": "code",
   "execution_count": null,
   "metadata": {
    "collapsed": true
   },
   "outputs": [],
   "source": [
    "table(data_country$year)\n",
    "#te dá a frequencia de cada valor no vetor (um jeito meio simplinho de achar a moda sem ter que criar uma funcao)"
   ]
  },
  {
   "cell_type": "code",
   "execution_count": null,
   "metadata": {
    "collapsed": true
   },
   "outputs": [],
   "source": [
    "range = max(my_list) - min(my_list)\n",
    "range\n",
    "#range é a medida de dispersao mais simples"
   ]
  },
  {
   "cell_type": "code",
   "execution_count": null,
   "metadata": {
    "collapsed": true
   },
   "outputs": [],
   "source": [
    "sd(my_vector, na.rm=T)\n",
    "#calcula o desvio padrao"
   ]
  },
  {
   "cell_type": "code",
   "execution_count": null,
   "metadata": {
    "collapsed": true
   },
   "outputs": [],
   "source": [
    "var(my_vector, na.rm=T)\n",
    "#variancia"
   ]
  },
  {
   "cell_type": "markdown",
   "metadata": {},
   "source": [
    "<b>Nota</b> sobre o nome das variáveis (declarar variável): um ponto (.) nao pode ser seguido por um numero. <br>\n",
    "Quando voce importa um df, as colunas serao as variáveis, entao voce precisa ter nomes de colunas compativeis."
   ]
  },
  {
   "cell_type": "code",
   "execution_count": 8,
   "metadata": {},
   "outputs": [],
   "source": [
    "data_costs = read.csv(\"/home/ricardo/R/datasets/costs.csv\", header = TRUE, sep = \",\")\n",
    "#importa csv "
   ]
  },
  {
   "cell_type": "code",
   "execution_count": 9,
   "metadata": {},
   "outputs": [],
   "source": [
    "total_costs = data_costs[,3]\n",
    "#cria um objeto pro total costs"
   ]
  },
  {
   "cell_type": "code",
   "execution_count": 3,
   "metadata": {
    "collapsed": true
   },
   "outputs": [],
   "source": [
    "Q1 = quantile(total_costs, 0.25, na.rm=T)\n",
    "Q3 = quantile(total_costs, 0.75, na.rm=T)\n",
    "#opcao: IQR = Q3-Q1 or IQR(vector)"
   ]
  },
  {
   "cell_type": "code",
   "execution_count": 4,
   "metadata": {},
   "outputs": [
    {
     "data": {
      "text/html": [
       "24550.25"
      ],
      "text/latex": [
       "24550.25"
      ],
      "text/markdown": [
       "24550.25"
      ],
      "text/plain": [
       "[1] 24550.25"
      ]
     },
     "metadata": {},
     "output_type": "display_data"
    }
   ],
   "source": [
    "IQR(total_costs, na.rm = T)\n",
    "#IQR "
   ]
  },
  {
   "cell_type": "code",
   "execution_count": 5,
   "metadata": {},
   "outputs": [
    {
     "data": {
      "text/html": [
       "62230.5787358448"
      ],
      "text/latex": [
       "62230.5787358448"
      ],
      "text/markdown": [
       "62230.5787358448"
      ],
      "text/plain": [
       "[1] 62230.58"
      ]
     },
     "metadata": {},
     "output_type": "display_data"
    }
   ],
   "source": [
    "sd(total_costs, na.rm=T)\n",
    "#standard deviation "
   ]
  },
  {
   "cell_type": "code",
   "execution_count": 6,
   "metadata": {},
   "outputs": [
    {
     "data": {
      "text/html": [
       "3872644929.79818"
      ],
      "text/latex": [
       "3872644929.79818"
      ],
      "text/markdown": [
       "3872644929.79818"
      ],
      "text/plain": [
       "[1] 3872644930"
      ]
     },
     "metadata": {},
     "output_type": "display_data"
    }
   ],
   "source": [
    "var(total_costs, na.rm=T)\n",
    "#variance "
   ]
  },
  {
   "cell_type": "markdown",
   "metadata": {},
   "source": [
    "<p> Pra nao repetir o processo várias vezes, use a funcao lapply() :</p>"
   ]
  },
  {
   "cell_type": "code",
   "execution_count": 7,
   "metadata": {
    "collapsed": true
   },
   "outputs": [],
   "source": [
    "costs_only_numeric = data_costs[,2:7]\n",
    "#novo objeto sem a coluna \"country\""
   ]
  },
  {
   "cell_type": "code",
   "execution_count": 8,
   "metadata": {
    "scrolled": true
   },
   "outputs": [
    {
     "data": {
      "text/html": [
       "<table>\n",
       "<thead><tr><th scope=col>year</th><th scope=col>total_costs</th><th scope=col>direct_law_costs</th><th scope=col>direct_health_costs</th><th scope=col>direct_other_costs</th><th scope=col>indirect_costs</th></tr></thead>\n",
       "<tbody>\n",
       "\t<tr><td>2007    </td><td>   947.9</td><td>     NA </td><td>  176.6 </td><td>  294.8 </td><td>   476.5</td></tr>\n",
       "\t<tr><td>1998    </td><td>  5227.6</td><td>  809.0 </td><td>  212.3 </td><td> 2300.5 </td><td>  1905.8</td></tr>\n",
       "\t<tr><td>2002    </td><td> 13957.9</td><td> 2946.4 </td><td> 3170.7 </td><td> 1006.2 </td><td>  6834.5</td></tr>\n",
       "\t<tr><td>1998    </td><td>  2969.9</td><td>    8.3 </td><td>  113.8 </td><td>   21.0 </td><td>  2826.8</td></tr>\n",
       "\t<tr><td>1997    </td><td> 25347.4</td><td>   80.7 </td><td> 4045.6 </td><td> 8581.4 </td><td> 12639.7</td></tr>\n",
       "\t<tr><td>2007    </td><td> 32539.5</td><td>    0.0 </td><td> 9421.2 </td><td> 1836.5 </td><td> 21281.8</td></tr>\n",
       "\t<tr><td>1996    </td><td> 11573.5</td><td>  150.0 </td><td> 2305.5 </td><td> 3392.2 </td><td>  5725.9</td></tr>\n",
       "\t<tr><td>2002    </td><td>  6428.7</td><td>  493.5 </td><td> 1785.3 </td><td>   24.1 </td><td>  4125.8</td></tr>\n",
       "\t<tr><td>2002    </td><td>  2862.3</td><td>  401.3 </td><td>  308.2 </td><td>  681.9 </td><td>  1470.9</td></tr>\n",
       "\t<tr><td>2003    </td><td> 31950.6</td><td>12227.4 </td><td> 3425.4 </td><td>  181.2 </td><td> 14426.5</td></tr>\n",
       "\t<tr><td>2000    </td><td>216154.5</td><td> 7408.2 </td><td>28829.7 </td><td>22802.9 </td><td>157113.8</td></tr>\n",
       "</tbody>\n",
       "</table>\n"
      ],
      "text/latex": [
       "\\begin{tabular}{r|llllll}\n",
       " year & total\\_costs & direct\\_law\\_costs & direct\\_health\\_costs & direct\\_other\\_costs & indirect\\_costs\\\\\n",
       "\\hline\n",
       "\t 2007     &    947.9 &      NA  &   176.6  &   294.8  &    476.5\\\\\n",
       "\t 1998     &   5227.6 &   809.0  &   212.3  &  2300.5  &   1905.8\\\\\n",
       "\t 2002     &  13957.9 &  2946.4  &  3170.7  &  1006.2  &   6834.5\\\\\n",
       "\t 1998     &   2969.9 &     8.3  &   113.8  &    21.0  &   2826.8\\\\\n",
       "\t 1997     &  25347.4 &    80.7  &  4045.6  &  8581.4  &  12639.7\\\\\n",
       "\t 2007     &  32539.5 &     0.0  &  9421.2  &  1836.5  &  21281.8\\\\\n",
       "\t 1996     &  11573.5 &   150.0  &  2305.5  &  3392.2  &   5725.9\\\\\n",
       "\t 2002     &   6428.7 &   493.5  &  1785.3  &    24.1  &   4125.8\\\\\n",
       "\t 2002     &   2862.3 &   401.3  &   308.2  &   681.9  &   1470.9\\\\\n",
       "\t 2003     &  31950.6 & 12227.4  &  3425.4  &   181.2  &  14426.5\\\\\n",
       "\t 2000     & 216154.5 &  7408.2  & 28829.7  & 22802.9  & 157113.8\\\\\n",
       "\\end{tabular}\n"
      ],
      "text/markdown": [
       "\n",
       "year | total_costs | direct_law_costs | direct_health_costs | direct_other_costs | indirect_costs | \n",
       "|---|---|---|---|---|---|---|---|---|---|---|\n",
       "| 2007     |    947.9 |      NA  |   176.6  |   294.8  |    476.5 | \n",
       "| 1998     |   5227.6 |   809.0  |   212.3  |  2300.5  |   1905.8 | \n",
       "| 2002     |  13957.9 |  2946.4  |  3170.7  |  1006.2  |   6834.5 | \n",
       "| 1998     |   2969.9 |     8.3  |   113.8  |    21.0  |   2826.8 | \n",
       "| 1997     |  25347.4 |    80.7  |  4045.6  |  8581.4  |  12639.7 | \n",
       "| 2007     |  32539.5 |     0.0  |  9421.2  |  1836.5  |  21281.8 | \n",
       "| 1996     |  11573.5 |   150.0  |  2305.5  |  3392.2  |   5725.9 | \n",
       "| 2002     |   6428.7 |   493.5  |  1785.3  |    24.1  |   4125.8 | \n",
       "| 2002     |   2862.3 |   401.3  |   308.2  |   681.9  |   1470.9 | \n",
       "| 2003     |  31950.6 | 12227.4  |  3425.4  |   181.2  |  14426.5 | \n",
       "| 2000     | 216154.5 |  7408.2  | 28829.7  | 22802.9  | 157113.8 | \n",
       "\n",
       "\n"
      ],
      "text/plain": [
       "   year total_costs direct_law_costs direct_health_costs direct_other_costs\n",
       "1  2007    947.9         NA            176.6               294.8           \n",
       "2  1998   5227.6      809.0            212.3              2300.5           \n",
       "3  2002  13957.9     2946.4           3170.7              1006.2           \n",
       "4  1998   2969.9        8.3            113.8                21.0           \n",
       "5  1997  25347.4       80.7           4045.6              8581.4           \n",
       "6  2007  32539.5        0.0           9421.2              1836.5           \n",
       "7  1996  11573.5      150.0           2305.5              3392.2           \n",
       "8  2002   6428.7      493.5           1785.3                24.1           \n",
       "9  2002   2862.3      401.3            308.2               681.9           \n",
       "10 2003  31950.6    12227.4           3425.4               181.2           \n",
       "11 2000 216154.5     7408.2          28829.7             22802.9           \n",
       "   indirect_costs\n",
       "1     476.5      \n",
       "2    1905.8      \n",
       "3    6834.5      \n",
       "4    2826.8      \n",
       "5   12639.7      \n",
       "6   21281.8      \n",
       "7    5725.9      \n",
       "8    4125.8      \n",
       "9    1470.9      \n",
       "10  14426.5      \n",
       "11 157113.8      "
      ]
     },
     "metadata": {},
     "output_type": "display_data"
    }
   ],
   "source": [
    "costs_only_numeric\n",
    "#checando se funcionou"
   ]
  },
  {
   "cell_type": "code",
   "execution_count": 9,
   "metadata": {
    "collapsed": true
   },
   "outputs": [],
   "source": [
    "IQR_table = lapply(costs_only_numeric, IQR, na.rm = T)\n",
    "#IQR pra tabela"
   ]
  },
  {
   "cell_type": "code",
   "execution_count": 10,
   "metadata": {},
   "outputs": [
    {
     "data": {
      "text/html": [
       "<dl>\n",
       "\t<dt>$year</dt>\n",
       "\t\t<dd>4.5</dd>\n",
       "\t<dt>$total_costs</dt>\n",
       "\t\t<dd>24550.25</dd>\n",
       "\t<dt>$direct_law_costs</dt>\n",
       "\t\t<dd>2314.025</dd>\n",
       "\t<dt>$direct_health_costs</dt>\n",
       "\t\t<dd>3475.25</dd>\n",
       "\t<dt>$direct_other_costs</dt>\n",
       "\t\t<dd>2608.35</dd>\n",
       "\t<dt>$indirect_costs</dt>\n",
       "\t\t<dd>11166.8</dd>\n",
       "</dl>\n"
      ],
      "text/latex": [
       "\\begin{description}\n",
       "\\item[\\$year] 4.5\n",
       "\\item[\\$total\\_costs] 24550.25\n",
       "\\item[\\$direct\\_law\\_costs] 2314.025\n",
       "\\item[\\$direct\\_health\\_costs] 3475.25\n",
       "\\item[\\$direct\\_other\\_costs] 2608.35\n",
       "\\item[\\$indirect\\_costs] 11166.8\n",
       "\\end{description}\n"
      ],
      "text/markdown": [
       "$year\n",
       ":   4.5\n",
       "$total_costs\n",
       ":   24550.25\n",
       "$direct_law_costs\n",
       ":   2314.025\n",
       "$direct_health_costs\n",
       ":   3475.25\n",
       "$direct_other_costs\n",
       ":   2608.35\n",
       "$indirect_costs\n",
       ":   11166.8\n",
       "\n",
       "\n"
      ],
      "text/plain": [
       "$year\n",
       "[1] 4.5\n",
       "\n",
       "$total_costs\n",
       "[1] 24550.25\n",
       "\n",
       "$direct_law_costs\n",
       "[1] 2314.025\n",
       "\n",
       "$direct_health_costs\n",
       "[1] 3475.25\n",
       "\n",
       "$direct_other_costs\n",
       "[1] 2608.35\n",
       "\n",
       "$indirect_costs\n",
       "[1] 11166.8\n"
      ]
     },
     "metadata": {},
     "output_type": "display_data"
    }
   ],
   "source": [
    "IQR_table"
   ]
  },
  {
   "cell_type": "code",
   "execution_count": 11,
   "metadata": {
    "collapsed": true
   },
   "outputs": [],
   "source": [
    "mean_table = lapply(costs_only_numeric, mean, na.rm = TRUE)\n",
    "#media pra tabela"
   ]
  },
  {
   "cell_type": "code",
   "execution_count": 12,
   "metadata": {},
   "outputs": [
    {
     "data": {
      "text/html": [
       "<dl>\n",
       "\t<dt>$year</dt>\n",
       "\t\t<dd>2001.09090909091</dd>\n",
       "\t<dt>$total_costs</dt>\n",
       "\t\t<dd>31814.5272727273</dd>\n",
       "\t<dt>$direct_law_costs</dt>\n",
       "\t\t<dd>2452.48</dd>\n",
       "\t<dt>$direct_health_costs</dt>\n",
       "\t\t<dd>4890.39090909091</dd>\n",
       "\t<dt>$direct_other_costs</dt>\n",
       "\t\t<dd>3738.42727272727</dd>\n",
       "\t<dt>$indirect_costs</dt>\n",
       "\t\t<dd>20802.5454545455</dd>\n",
       "</dl>\n"
      ],
      "text/latex": [
       "\\begin{description}\n",
       "\\item[\\$year] 2001.09090909091\n",
       "\\item[\\$total\\_costs] 31814.5272727273\n",
       "\\item[\\$direct\\_law\\_costs] 2452.48\n",
       "\\item[\\$direct\\_health\\_costs] 4890.39090909091\n",
       "\\item[\\$direct\\_other\\_costs] 3738.42727272727\n",
       "\\item[\\$indirect\\_costs] 20802.5454545455\n",
       "\\end{description}\n"
      ],
      "text/markdown": [
       "$year\n",
       ":   2001.09090909091\n",
       "$total_costs\n",
       ":   31814.5272727273\n",
       "$direct_law_costs\n",
       ":   2452.48\n",
       "$direct_health_costs\n",
       ":   4890.39090909091\n",
       "$direct_other_costs\n",
       ":   3738.42727272727\n",
       "$indirect_costs\n",
       ":   20802.5454545455\n",
       "\n",
       "\n"
      ],
      "text/plain": [
       "$year\n",
       "[1] 2001.091\n",
       "\n",
       "$total_costs\n",
       "[1] 31814.53\n",
       "\n",
       "$direct_law_costs\n",
       "[1] 2452.48\n",
       "\n",
       "$direct_health_costs\n",
       "[1] 4890.391\n",
       "\n",
       "$direct_other_costs\n",
       "[1] 3738.427\n",
       "\n",
       "$indirect_costs\n",
       "[1] 20802.55\n"
      ]
     },
     "metadata": {},
     "output_type": "display_data"
    }
   ],
   "source": [
    "mean_table"
   ]
  },
  {
   "cell_type": "code",
   "execution_count": 13,
   "metadata": {
    "collapsed": true
   },
   "outputs": [],
   "source": [
    "sd_table = lapply(costs_only_numeric,sd, na.rm = TRUE)\n",
    "#standard variation "
   ]
  },
  {
   "cell_type": "code",
   "execution_count": 14,
   "metadata": {},
   "outputs": [
    {
     "data": {
      "text/html": [
       "<dl>\n",
       "\t<dt>$year</dt>\n",
       "\t\t<dd>3.72705099118715</dd>\n",
       "\t<dt>$total_costs</dt>\n",
       "\t\t<dd>62230.5787358448</dd>\n",
       "\t<dt>$direct_law_costs</dt>\n",
       "\t\t<dd>4136.74020584647</dd>\n",
       "\t<dt>$direct_health_costs</dt>\n",
       "\t\t<dd>8388.53897725397</dd>\n",
       "\t<dt>$direct_other_costs</dt>\n",
       "\t\t<dd>6794.47343685895</dd>\n",
       "\t<dt>$indirect_costs</dt>\n",
       "\t\t<dd>45668.2320945176</dd>\n",
       "</dl>\n"
      ],
      "text/latex": [
       "\\begin{description}\n",
       "\\item[\\$year] 3.72705099118715\n",
       "\\item[\\$total\\_costs] 62230.5787358448\n",
       "\\item[\\$direct\\_law\\_costs] 4136.74020584647\n",
       "\\item[\\$direct\\_health\\_costs] 8388.53897725397\n",
       "\\item[\\$direct\\_other\\_costs] 6794.47343685895\n",
       "\\item[\\$indirect\\_costs] 45668.2320945176\n",
       "\\end{description}\n"
      ],
      "text/markdown": [
       "$year\n",
       ":   3.72705099118715\n",
       "$total_costs\n",
       ":   62230.5787358448\n",
       "$direct_law_costs\n",
       ":   4136.74020584647\n",
       "$direct_health_costs\n",
       ":   8388.53897725397\n",
       "$direct_other_costs\n",
       ":   6794.47343685895\n",
       "$indirect_costs\n",
       ":   45668.2320945176\n",
       "\n",
       "\n"
      ],
      "text/plain": [
       "$year\n",
       "[1] 3.727051\n",
       "\n",
       "$total_costs\n",
       "[1] 62230.58\n",
       "\n",
       "$direct_law_costs\n",
       "[1] 4136.74\n",
       "\n",
       "$direct_health_costs\n",
       "[1] 8388.539\n",
       "\n",
       "$direct_other_costs\n",
       "[1] 6794.473\n",
       "\n",
       "$indirect_costs\n",
       "[1] 45668.23\n"
      ]
     },
     "metadata": {},
     "output_type": "display_data"
    }
   ],
   "source": [
    "sd_table"
   ]
  },
  {
   "cell_type": "code",
   "execution_count": 15,
   "metadata": {
    "collapsed": true
   },
   "outputs": [],
   "source": [
    "var_table = lapply(costs_only_numeric, var,na.rm = TRUE)\n",
    "#variance "
   ]
  },
  {
   "cell_type": "code",
   "execution_count": 16,
   "metadata": {},
   "outputs": [
    {
     "data": {
      "text/html": [
       "<dl>\n",
       "\t<dt>$year</dt>\n",
       "\t\t<dd>13.8909090909091</dd>\n",
       "\t<dt>$total_costs</dt>\n",
       "\t\t<dd>3872644929.79818</dd>\n",
       "\t<dt>$direct_law_costs</dt>\n",
       "\t\t<dd>17112619.5306667</dd>\n",
       "\t<dt>$direct_health_costs</dt>\n",
       "\t\t<dd>70367586.1729091</dd>\n",
       "\t<dt>$direct_other_costs</dt>\n",
       "\t\t<dd>46164869.2841818</dd>\n",
       "\t<dt>$indirect_costs</dt>\n",
       "\t\t<dd>2085587422.63873</dd>\n",
       "</dl>\n"
      ],
      "text/latex": [
       "\\begin{description}\n",
       "\\item[\\$year] 13.8909090909091\n",
       "\\item[\\$total\\_costs] 3872644929.79818\n",
       "\\item[\\$direct\\_law\\_costs] 17112619.5306667\n",
       "\\item[\\$direct\\_health\\_costs] 70367586.1729091\n",
       "\\item[\\$direct\\_other\\_costs] 46164869.2841818\n",
       "\\item[\\$indirect\\_costs] 2085587422.63873\n",
       "\\end{description}\n"
      ],
      "text/markdown": [
       "$year\n",
       ":   13.8909090909091\n",
       "$total_costs\n",
       ":   3872644929.79818\n",
       "$direct_law_costs\n",
       ":   17112619.5306667\n",
       "$direct_health_costs\n",
       ":   70367586.1729091\n",
       "$direct_other_costs\n",
       ":   46164869.2841818\n",
       "$indirect_costs\n",
       ":   2085587422.63873\n",
       "\n",
       "\n"
      ],
      "text/plain": [
       "$year\n",
       "[1] 13.89091\n",
       "\n",
       "$total_costs\n",
       "[1] 3872644930\n",
       "\n",
       "$direct_law_costs\n",
       "[1] 17112620\n",
       "\n",
       "$direct_health_costs\n",
       "[1] 70367586\n",
       "\n",
       "$direct_other_costs\n",
       "[1] 46164869\n",
       "\n",
       "$indirect_costs\n",
       "[1] 2085587423\n"
      ]
     },
     "metadata": {},
     "output_type": "display_data"
    }
   ],
   "source": [
    "var_table"
   ]
  },
  {
   "cell_type": "code",
   "execution_count": 5,
   "metadata": {},
   "outputs": [
    {
     "data": {
      "text/html": [
       "<ol class=list-inline>\n",
       "\t<li>'data_costs'</li>\n",
       "\t<li>'data_country'</li>\n",
       "</ol>\n"
      ],
      "text/latex": [
       "\\begin{enumerate*}\n",
       "\\item 'data\\_costs'\n",
       "\\item 'data\\_country'\n",
       "\\end{enumerate*}\n"
      ],
      "text/markdown": [
       "1. 'data_costs'\n",
       "2. 'data_country'\n",
       "\n",
       "\n"
      ],
      "text/plain": [
       "[1] \"data_costs\"   \"data_country\""
      ]
     },
     "metadata": {},
     "output_type": "display_data"
    },
    {
     "data": {
      "text/html": [
       "<ol class=list-inline>\n",
       "\t<li>'data_costs'</li>\n",
       "\t<li>'data_country'</li>\n",
       "</ol>\n"
      ],
      "text/latex": [
       "\\begin{enumerate*}\n",
       "\\item 'data\\_costs'\n",
       "\\item 'data\\_country'\n",
       "\\end{enumerate*}\n"
      ],
      "text/markdown": [
       "1. 'data_costs'\n",
       "2. 'data_country'\n",
       "\n",
       "\n"
      ],
      "text/plain": [
       "[1] \"data_costs\"   \"data_country\""
      ]
     },
     "metadata": {},
     "output_type": "display_data"
    }
   ],
   "source": [
    "ls()\n",
    "objects()\n",
    "#Objetos no workspace"
   ]
  },
  {
   "cell_type": "markdown",
   "metadata": {},
   "source": [
    "<p><b>About saving the workspace</b><br>\n",
    "save.image(\"path_to_the_file\") -  saves it <br>\n",
    "load(\"path_to_the_file\") - loads it </p>"
   ]
  },
  {
   "cell_type": "code",
   "execution_count": 6,
   "metadata": {},
   "outputs": [
    {
     "data": {
      "text/html": [
       "'/home/ricardo/R/datasets'"
      ],
      "text/latex": [
       "'/home/ricardo/R/datasets'"
      ],
      "text/markdown": [
       "'/home/ricardo/R/datasets'"
      ],
      "text/plain": [
       "[1] \"/home/ricardo/R/datasets\""
      ]
     },
     "metadata": {},
     "output_type": "display_data"
    }
   ],
   "source": [
    "getwd()\n",
    "#get working directory (wd)"
   ]
  },
  {
   "cell_type": "code",
   "execution_count": null,
   "metadata": {
    "collapsed": true
   },
   "outputs": [],
   "source": [
    "#setwd(\"path to the new directory\")\n",
    "#sets working directory"
   ]
  },
  {
   "cell_type": "code",
   "execution_count": 7,
   "metadata": {},
   "outputs": [
    {
     "data": {
      "text/html": [
       "<dl>\n",
       "\t<dt>$add.smooth</dt>\n",
       "\t\t<dd>TRUE</dd>\n",
       "\t<dt>$bitmapType</dt>\n",
       "\t\t<dd>'cairo'</dd>\n",
       "\t<dt>$browser</dt>\n",
       "\t\t<dd>'xdg-open'</dd>\n",
       "\t<dt>$browserNLdisabled</dt>\n",
       "\t\t<dd>FALSE</dd>\n",
       "\t<dt>$CBoundsCheck</dt>\n",
       "\t\t<dd>FALSE</dd>\n",
       "\t<dt>$check.bounds</dt>\n",
       "\t\t<dd>FALSE</dd>\n",
       "\t<dt>$citation.bibtex.max</dt>\n",
       "\t\t<dd>1</dd>\n",
       "\t<dt>$continue</dt>\n",
       "\t\t<dd>'+ '</dd>\n",
       "\t<dt>$contrasts</dt>\n",
       "\t\t<dd><dl class=dl-horizontal>\n",
       "\t<dt>unordered</dt>\n",
       "\t\t<dd>'contr.treatment'</dd>\n",
       "\t<dt>ordered</dt>\n",
       "\t\t<dd>'contr.poly'</dd>\n",
       "</dl>\n",
       "</dd>\n",
       "\t<dt>$defaultPackages</dt>\n",
       "\t\t<dd><ol class=list-inline>\n",
       "\t<li>'datasets'</li>\n",
       "\t<li>'utils'</li>\n",
       "\t<li>'grDevices'</li>\n",
       "\t<li>'graphics'</li>\n",
       "\t<li>'stats'</li>\n",
       "\t<li>'methods'</li>\n",
       "</ol>\n",
       "</dd>\n",
       "\t<dt>$demo.ask</dt>\n",
       "\t\t<dd>'default'</dd>\n",
       "\t<dt>$deparse.cutoff</dt>\n",
       "\t\t<dd>60</dd>\n",
       "\t<dt>$device</dt>\n",
       "\t\t<dd><pre class=language-r><code>function (filename = null_filename, ...) \n",
       "ok_device(filename, ...)</code></pre></dd>\n",
       "\t<dt>$device.ask.default</dt>\n",
       "\t\t<dd>FALSE</dd>\n",
       "\t<dt>$digits</dt>\n",
       "\t\t<dd>7</dd>\n",
       "\t<dt>$dvipscmd</dt>\n",
       "\t\t<dd>'dvips'</dd>\n",
       "\t<dt>$echo</dt>\n",
       "\t\t<dd>FALSE</dd>\n",
       "\t<dt>$editor</dt>\n",
       "\t\t<dd>'vi'</dd>\n",
       "\t<dt>$encoding</dt>\n",
       "\t\t<dd>'native.enc'</dd>\n",
       "\t<dt>$example.ask</dt>\n",
       "\t\t<dd>'default'</dd>\n",
       "\t<dt>$expressions</dt>\n",
       "\t\t<dd>5000</dd>\n",
       "\t<dt>$help.search.types</dt>\n",
       "\t\t<dd><ol class=list-inline>\n",
       "\t<li>'vignette'</li>\n",
       "\t<li>'demo'</li>\n",
       "\t<li>'help'</li>\n",
       "</ol>\n",
       "</dd>\n",
       "\t<dt>$help.try.all.packages</dt>\n",
       "\t\t<dd>FALSE</dd>\n",
       "\t<dt>$HTTPUserAgent</dt>\n",
       "\t\t<dd>'R (3.4.4 x86_64-pc-linux-gnu x86_64 linux-gnu)'</dd>\n",
       "\t<dt>$internet.info</dt>\n",
       "\t\t<dd>2</dd>\n",
       "\t<dt>$jupyter.base_display_func</dt>\n",
       "\t\t<dd><pre class=language-r><code>structure(function (data, metadata = NULL) \n",
       "{\n",
       "<span style=white-space:pre-wrap>    if (is.null(metadata)) {</span>\n",
       "<span style=white-space:pre-wrap>        metadata &lt;- namedlist()</span>\n",
       "<span style=white-space:pre-wrap>    }</span>\n",
       "<span style=white-space:pre-wrap>    send_response(\"display_data\", current_request, \"iopub\", list(data = data, </span>\n",
       "<span style=white-space:pre-wrap>        metadata = metadata))</span>\n",
       "<span style=white-space:pre-wrap>    invisible(TRUE)</span>\n",
       "}, mayCall = character(0), name = \"display_data\", refClassName = \"Executor\", superClassMethod = \"\", class = structure(\"refMethodDef\", package = \"methods\"))</code></pre></dd>\n",
       "\t<dt>$jupyter.display_mimetypes</dt>\n",
       "\t\t<dd><ol class=list-inline>\n",
       "\t<li>'text/plain'</li>\n",
       "\t<li>'text/html'</li>\n",
       "\t<li>'text/markdown'</li>\n",
       "\t<li>'text/latex'</li>\n",
       "\t<li>'application/json'</li>\n",
       "\t<li>'application/javascript'</li>\n",
       "\t<li>'application/pdf'</li>\n",
       "\t<li>'image/png'</li>\n",
       "\t<li>'image/jpeg'</li>\n",
       "\t<li>'image/svg+xml'</li>\n",
       "</ol>\n",
       "</dd>\n",
       "\t<dt>$jupyter.in_kernel</dt>\n",
       "\t\t<dd>TRUE</dd>\n",
       "\t<dt>$jupyter.logfile</dt>\n",
       "\t\t<dd>&lt;NA&gt;</dd>\n",
       "\t<dt>$jupyter.log_level</dt>\n",
       "\t\t<dd>1</dd>\n",
       "\t<dt>$jupyter.pager_classes</dt>\n",
       "\t\t<dd><ol class=list-inline>\n",
       "\t<li>'packageIQR'</li>\n",
       "\t<li>'help_files_with_topic'</li>\n",
       "</ol>\n",
       "</dd>\n",
       "\t<dt>$jupyter.plot_mimetypes</dt>\n",
       "\t\t<dd><ol class=list-inline>\n",
       "\t<li>'text/plain'</li>\n",
       "\t<li>'image/png'</li>\n",
       "</ol>\n",
       "</dd>\n",
       "\t<dt>$jupyter.rich_display</dt>\n",
       "\t\t<dd>TRUE</dd>\n",
       "\t<dt>$keep.source</dt>\n",
       "\t\t<dd>FALSE</dd>\n",
       "\t<dt>$keep.source.pkgs</dt>\n",
       "\t\t<dd>FALSE</dd>\n",
       "\t<dt>$locatorBell</dt>\n",
       "\t\t<dd>TRUE</dd>\n",
       "\t<dt>$mailer</dt>\n",
       "\t\t<dd>'mailto'</dd>\n",
       "\t<dt>$matprod</dt>\n",
       "\t\t<dd>'default'</dd>\n",
       "\t<dt>$max.print</dt>\n",
       "\t\t<dd>99999</dd>\n",
       "\t<dt>$menu.graphics</dt>\n",
       "\t\t<dd>TRUE</dd>\n",
       "\t<dt>$na.action</dt>\n",
       "\t\t<dd>'na.omit'</dd>\n",
       "\t<dt>$nwarnings</dt>\n",
       "\t\t<dd>50</dd>\n",
       "\t<dt>$OutDec</dt>\n",
       "\t\t<dd>'.'</dd>\n",
       "\t<dt>$pager</dt>\n",
       "\t\t<dd><pre class=language-r><code>function (files, header, title, delete.file) \n",
       "{\n",
       "<span style=white-space:pre-wrap>    text &lt;- title</span>\n",
       "<span style=white-space:pre-wrap>    for (path in files) {</span>\n",
       "<span style=white-space:pre-wrap>        text &lt;- c(text, header, readLines(path))</span>\n",
       "<span style=white-space:pre-wrap>    }</span>\n",
       "<span style=white-space:pre-wrap>    if (delete.file) </span>\n",
       "<span style=white-space:pre-wrap>        file.remove(files)</span>\n",
       "<span style=white-space:pre-wrap>    data &lt;- list(`text/plain` = paste(text, collapse = \"\\n\"))</span>\n",
       "<span style=white-space:pre-wrap>    page(list(data = data, metadata = namedlist()))</span>\n",
       "}</code></pre></dd>\n",
       "\t<dt>$papersize</dt>\n",
       "\t\t<dd>'a4'</dd>\n",
       "\t<dt>$PCRE_limit_recursion</dt>\n",
       "\t\t<dd>&lt;NA&gt;</dd>\n",
       "\t<dt>$PCRE_study</dt>\n",
       "\t\t<dd>10</dd>\n",
       "\t<dt>$PCRE_use_JIT</dt>\n",
       "\t\t<dd>TRUE</dd>\n",
       "\t<dt>$pdfviewer</dt>\n",
       "\t\t<dd>'/usr/bin/xdg-open'</dd>\n",
       "\t<dt>$pkgType</dt>\n",
       "\t\t<dd>'source'</dd>\n",
       "\t<dt>$printcmd</dt>\n",
       "\t\t<dd>'/usr/bin/lpr'</dd>\n",
       "\t<dt>$prompt</dt>\n",
       "\t\t<dd>'&gt; '</dd>\n",
       "\t<dt>$repos</dt>\n",
       "\t\t<dd><strong>CRAN:</strong> 'https://cloud.r-project.org'</dd>\n",
       "\t<dt>$repr.function.highlight</dt>\n",
       "\t\t<dd>FALSE</dd>\n",
       "\t<dt>$repr.matrix.latex.colspec</dt>\n",
       "\t\t<dd><dl>\n",
       "\t<dt>$row_head</dt>\n",
       "\t\t<dd>'r|'</dd>\n",
       "\t<dt>$col</dt>\n",
       "\t\t<dd>'l'</dd>\n",
       "\t<dt>$end</dt>\n",
       "\t\t<dd>''</dd>\n",
       "</dl>\n",
       "</dd>\n",
       "\t<dt>$repr.matrix.max.cols</dt>\n",
       "\t\t<dd>20</dd>\n",
       "\t<dt>$repr.matrix.max.rows</dt>\n",
       "\t\t<dd>60</dd>\n",
       "\t<dt>$repr.plot.antialias</dt>\n",
       "\t\t<dd>'gray'</dd>\n",
       "\t<dt>$repr.plot.bg</dt>\n",
       "\t\t<dd>'white'</dd>\n",
       "\t<dt>$repr.plot.family</dt>\n",
       "\t\t<dd>'sans'</dd>\n",
       "\t<dt>$repr.plot.height</dt>\n",
       "\t\t<dd>7</dd>\n",
       "\t<dt>$repr.plot.pointsize</dt>\n",
       "\t\t<dd>12</dd>\n",
       "\t<dt>$repr.plot.quality</dt>\n",
       "\t\t<dd>90</dd>\n",
       "\t<dt>$repr.plot.res</dt>\n",
       "\t\t<dd>120</dd>\n",
       "\t<dt>$repr.plot.width</dt>\n",
       "\t\t<dd>7</dd>\n",
       "\t<dt>$repr.vector.quote</dt>\n",
       "\t\t<dd>TRUE</dd>\n",
       "\t<dt>$rl_word_breaks</dt>\n",
       "\t\t<dd>' \\t\\n\"\\\\\\'`&gt;&lt;=%;,|&amp;{()}'</dd>\n",
       "\t<dt>$scipen</dt>\n",
       "\t\t<dd>0</dd>\n",
       "\t<dt>$show.coef.Pvalues</dt>\n",
       "\t\t<dd>TRUE</dd>\n",
       "\t<dt>$showErrorCalls</dt>\n",
       "\t\t<dd>TRUE</dd>\n",
       "\t<dt>$show.error.messages</dt>\n",
       "\t\t<dd>TRUE</dd>\n",
       "\t<dt>$show.signif.stars</dt>\n",
       "\t\t<dd>TRUE</dd>\n",
       "\t<dt>$str</dt>\n",
       "\t\t<dd><dl>\n",
       "\t<dt>$strict.width</dt>\n",
       "\t\t<dd>'no'</dd>\n",
       "\t<dt>$digits.d</dt>\n",
       "\t\t<dd>3</dd>\n",
       "\t<dt>$vec.len</dt>\n",
       "\t\t<dd>4</dd>\n",
       "</dl>\n",
       "</dd>\n",
       "\t<dt>$str.dendrogram.last</dt>\n",
       "\t\t<dd>'`'</dd>\n",
       "\t<dt>$stringsAsFactors</dt>\n",
       "\t\t<dd>TRUE</dd>\n",
       "\t<dt>$texi2dvi</dt>\n",
       "\t\t<dd>'/usr/bin/texi2dvi'</dd>\n",
       "\t<dt>$timeout</dt>\n",
       "\t\t<dd>60</dd>\n",
       "\t<dt>$ts.eps</dt>\n",
       "\t\t<dd>1e-05</dd>\n",
       "\t<dt>$ts.S.compat</dt>\n",
       "\t\t<dd>FALSE</dd>\n",
       "\t<dt>$unzip</dt>\n",
       "\t\t<dd>'/usr/bin/unzip'</dd>\n",
       "\t<dt>$useFancyQuotes</dt>\n",
       "\t\t<dd>TRUE</dd>\n",
       "\t<dt>$verbose</dt>\n",
       "\t\t<dd>FALSE</dd>\n",
       "\t<dt>$warn</dt>\n",
       "\t\t<dd>0</dd>\n",
       "\t<dt>$warning.length</dt>\n",
       "\t\t<dd>1000</dd>\n",
       "\t<dt>$width</dt>\n",
       "\t\t<dd>80</dd>\n",
       "</dl>\n"
      ],
      "text/latex": [
       "\\begin{description}\n",
       "\\item[\\$add.smooth] TRUE\n",
       "\\item[\\$bitmapType] 'cairo'\n",
       "\\item[\\$browser] 'xdg-open'\n",
       "\\item[\\$browserNLdisabled] FALSE\n",
       "\\item[\\$CBoundsCheck] FALSE\n",
       "\\item[\\$check.bounds] FALSE\n",
       "\\item[\\$citation.bibtex.max] 1\n",
       "\\item[\\$continue] '+ '\n",
       "\\item[\\$contrasts] \\begin{description*}\n",
       "\\item[unordered] 'contr.treatment'\n",
       "\\item[ordered] 'contr.poly'\n",
       "\\end{description*}\n",
       "\n",
       "\\item[\\$defaultPackages] \\begin{enumerate*}\n",
       "\\item 'datasets'\n",
       "\\item 'utils'\n",
       "\\item 'grDevices'\n",
       "\\item 'graphics'\n",
       "\\item 'stats'\n",
       "\\item 'methods'\n",
       "\\end{enumerate*}\n",
       "\n",
       "\\item[\\$demo.ask] 'default'\n",
       "\\item[\\$deparse.cutoff] 60\n",
       "\\item[\\$device] \\begin{minted}{r}\n",
       "function (filename = null\\_filename, ...) \n",
       "ok\\_device(filename, ...)\n",
       "\\end{minted}\n",
       "\\item[\\$device.ask.default] FALSE\n",
       "\\item[\\$digits] 7\n",
       "\\item[\\$dvipscmd] 'dvips'\n",
       "\\item[\\$echo] FALSE\n",
       "\\item[\\$editor] 'vi'\n",
       "\\item[\\$encoding] 'native.enc'\n",
       "\\item[\\$example.ask] 'default'\n",
       "\\item[\\$expressions] 5000\n",
       "\\item[\\$help.search.types] \\begin{enumerate*}\n",
       "\\item 'vignette'\n",
       "\\item 'demo'\n",
       "\\item 'help'\n",
       "\\end{enumerate*}\n",
       "\n",
       "\\item[\\$help.try.all.packages] FALSE\n",
       "\\item[\\$HTTPUserAgent] 'R (3.4.4 x86\\_64-pc-linux-gnu x86\\_64 linux-gnu)'\n",
       "\\item[\\$internet.info] 2\n",
       "\\item[\\$jupyter.base\\_display\\_func] \\begin{minted}{r}\n",
       "structure(function (data, metadata = NULL) \n",
       "\\{\n",
       "    if (is.null(metadata)) \\{\n",
       "        metadata <- namedlist()\n",
       "    \\}\n",
       "    send\\_response(\"display\\_data\", current\\_request, \"iopub\", list(data = data, \n",
       "        metadata = metadata))\n",
       "    invisible(TRUE)\n",
       "\\}, mayCall = character(0), name = \"display\\_data\", refClassName = \"Executor\", superClassMethod = \"\", class = structure(\"refMethodDef\", package = \"methods\"))\n",
       "\\end{minted}\n",
       "\\item[\\$jupyter.display\\_mimetypes] \\begin{enumerate*}\n",
       "\\item 'text/plain'\n",
       "\\item 'text/html'\n",
       "\\item 'text/markdown'\n",
       "\\item 'text/latex'\n",
       "\\item 'application/json'\n",
       "\\item 'application/javascript'\n",
       "\\item 'application/pdf'\n",
       "\\item 'image/png'\n",
       "\\item 'image/jpeg'\n",
       "\\item 'image/svg+xml'\n",
       "\\end{enumerate*}\n",
       "\n",
       "\\item[\\$jupyter.in\\_kernel] TRUE\n",
       "\\item[\\$jupyter.logfile] <NA>\n",
       "\\item[\\$jupyter.log\\_level] 1\n",
       "\\item[\\$jupyter.pager\\_classes] \\begin{enumerate*}\n",
       "\\item 'packageIQR'\n",
       "\\item 'help\\_files\\_with\\_topic'\n",
       "\\end{enumerate*}\n",
       "\n",
       "\\item[\\$jupyter.plot\\_mimetypes] \\begin{enumerate*}\n",
       "\\item 'text/plain'\n",
       "\\item 'image/png'\n",
       "\\end{enumerate*}\n",
       "\n",
       "\\item[\\$jupyter.rich\\_display] TRUE\n",
       "\\item[\\$keep.source] FALSE\n",
       "\\item[\\$keep.source.pkgs] FALSE\n",
       "\\item[\\$locatorBell] TRUE\n",
       "\\item[\\$mailer] 'mailto'\n",
       "\\item[\\$matprod] 'default'\n",
       "\\item[\\$max.print] 99999\n",
       "\\item[\\$menu.graphics] TRUE\n",
       "\\item[\\$na.action] 'na.omit'\n",
       "\\item[\\$nwarnings] 50\n",
       "\\item[\\$OutDec] '.'\n",
       "\\item[\\$pager] \\begin{minted}{r}\n",
       "function (files, header, title, delete.file) \n",
       "\\{\n",
       "    text <- title\n",
       "    for (path in files) \\{\n",
       "        text <- c(text, header, readLines(path))\n",
       "    \\}\n",
       "    if (delete.file) \n",
       "        file.remove(files)\n",
       "    data <- list(`text/plain` = paste(text, collapse = \"\\textbackslash{}n\"))\n",
       "    page(list(data = data, metadata = namedlist()))\n",
       "\\}\n",
       "\\end{minted}\n",
       "\\item[\\$papersize] 'a4'\n",
       "\\item[\\$PCRE\\_limit\\_recursion] <NA>\n",
       "\\item[\\$PCRE\\_study] 10\n",
       "\\item[\\$PCRE\\_use\\_JIT] TRUE\n",
       "\\item[\\$pdfviewer] '/usr/bin/xdg-open'\n",
       "\\item[\\$pkgType] 'source'\n",
       "\\item[\\$printcmd] '/usr/bin/lpr'\n",
       "\\item[\\$prompt] '> '\n",
       "\\item[\\$repos] \\textbf{CRAN:} 'https://cloud.r-project.org'\n",
       "\\item[\\$repr.function.highlight] FALSE\n",
       "\\item[\\$repr.matrix.latex.colspec] \\begin{description}\n",
       "\\item[\\$row\\_head] 'r\\textbar{}'\n",
       "\\item[\\$col] 'l'\n",
       "\\item[\\$end] ''\n",
       "\\end{description}\n",
       "\n",
       "\\item[\\$repr.matrix.max.cols] 20\n",
       "\\item[\\$repr.matrix.max.rows] 60\n",
       "\\item[\\$repr.plot.antialias] 'gray'\n",
       "\\item[\\$repr.plot.bg] 'white'\n",
       "\\item[\\$repr.plot.family] 'sans'\n",
       "\\item[\\$repr.plot.height] 7\n",
       "\\item[\\$repr.plot.pointsize] 12\n",
       "\\item[\\$repr.plot.quality] 90\n",
       "\\item[\\$repr.plot.res] 120\n",
       "\\item[\\$repr.plot.width] 7\n",
       "\\item[\\$repr.vector.quote] TRUE\n",
       "\\item[\\$rl\\_word\\_breaks] ' \\textbackslash{}t\\textbackslash{}n\"\\textbackslash{}\\textbackslash{}\\textbackslash{}'`><=\\%;,\\textbar{}\\&\\{()\\}'\n",
       "\\item[\\$scipen] 0\n",
       "\\item[\\$show.coef.Pvalues] TRUE\n",
       "\\item[\\$showErrorCalls] TRUE\n",
       "\\item[\\$show.error.messages] TRUE\n",
       "\\item[\\$show.signif.stars] TRUE\n",
       "\\item[\\$str] \\begin{description}\n",
       "\\item[\\$strict.width] 'no'\n",
       "\\item[\\$digits.d] 3\n",
       "\\item[\\$vec.len] 4\n",
       "\\end{description}\n",
       "\n",
       "\\item[\\$str.dendrogram.last] '`'\n",
       "\\item[\\$stringsAsFactors] TRUE\n",
       "\\item[\\$texi2dvi] '/usr/bin/texi2dvi'\n",
       "\\item[\\$timeout] 60\n",
       "\\item[\\$ts.eps] 1e-05\n",
       "\\item[\\$ts.S.compat] FALSE\n",
       "\\item[\\$unzip] '/usr/bin/unzip'\n",
       "\\item[\\$useFancyQuotes] TRUE\n",
       "\\item[\\$verbose] FALSE\n",
       "\\item[\\$warn] 0\n",
       "\\item[\\$warning.length] 1000\n",
       "\\item[\\$width] 80\n",
       "\\end{description}\n"
      ],
      "text/markdown": [
       "$add.smooth\n",
       ":   TRUE\n",
       "$bitmapType\n",
       ":   'cairo'\n",
       "$browser\n",
       ":   'xdg-open'\n",
       "$browserNLdisabled\n",
       ":   FALSE\n",
       "$CBoundsCheck\n",
       ":   FALSE\n",
       "$check.bounds\n",
       ":   FALSE\n",
       "$citation.bibtex.max\n",
       ":   1\n",
       "$continue\n",
       ":   '+ '\n",
       "$contrasts\n",
       ":   unordered\n",
       ":   'contr.treatment'ordered\n",
       ":   'contr.poly'\n",
       "\n",
       "\n",
       "$defaultPackages\n",
       ":   1. 'datasets'\n",
       "2. 'utils'\n",
       "3. 'grDevices'\n",
       "4. 'graphics'\n",
       "5. 'stats'\n",
       "6. 'methods'\n",
       "\n",
       "\n",
       "\n",
       "$demo.ask\n",
       ":   'default'\n",
       "$deparse.cutoff\n",
       ":   60\n",
       "$device\n",
       ":   ```r\n",
       "function (filename = null_filename, ...) \n",
       "ok_device(filename, ...)\n",
       "```\n",
       "$device.ask.default\n",
       ":   FALSE\n",
       "$digits\n",
       ":   7\n",
       "$dvipscmd\n",
       ":   'dvips'\n",
       "$echo\n",
       ":   FALSE\n",
       "$editor\n",
       ":   'vi'\n",
       "$encoding\n",
       ":   'native.enc'\n",
       "$example.ask\n",
       ":   'default'\n",
       "$expressions\n",
       ":   5000\n",
       "$help.search.types\n",
       ":   1. 'vignette'\n",
       "2. 'demo'\n",
       "3. 'help'\n",
       "\n",
       "\n",
       "\n",
       "$help.try.all.packages\n",
       ":   FALSE\n",
       "$HTTPUserAgent\n",
       ":   'R (3.4.4 x86_64-pc-linux-gnu x86_64 linux-gnu)'\n",
       "$internet.info\n",
       ":   2\n",
       "$jupyter.base_display_func\n",
       ":   ```r\n",
       "structure(function (data, metadata = NULL) \n",
       "{\n",
       "    if (is.null(metadata)) {\n",
       "        metadata <- namedlist()\n",
       "    }\n",
       "    send_response(\"display_data\", current_request, \"iopub\", list(data = data, \n",
       "        metadata = metadata))\n",
       "    invisible(TRUE)\n",
       "}, mayCall = character(0), name = \"display_data\", refClassName = \"Executor\", superClassMethod = \"\", class = structure(\"refMethodDef\", package = \"methods\"))\n",
       "```\n",
       "$jupyter.display_mimetypes\n",
       ":   1. 'text/plain'\n",
       "2. 'text/html'\n",
       "3. 'text/markdown'\n",
       "4. 'text/latex'\n",
       "5. 'application/json'\n",
       "6. 'application/javascript'\n",
       "7. 'application/pdf'\n",
       "8. 'image/png'\n",
       "9. 'image/jpeg'\n",
       "10. 'image/svg+xml'\n",
       "\n",
       "\n",
       "\n",
       "$jupyter.in_kernel\n",
       ":   TRUE\n",
       "$jupyter.logfile\n",
       ":   &lt;NA&gt;\n",
       "$jupyter.log_level\n",
       ":   1\n",
       "$jupyter.pager_classes\n",
       ":   1. 'packageIQR'\n",
       "2. 'help_files_with_topic'\n",
       "\n",
       "\n",
       "\n",
       "$jupyter.plot_mimetypes\n",
       ":   1. 'text/plain'\n",
       "2. 'image/png'\n",
       "\n",
       "\n",
       "\n",
       "$jupyter.rich_display\n",
       ":   TRUE\n",
       "$keep.source\n",
       ":   FALSE\n",
       "$keep.source.pkgs\n",
       ":   FALSE\n",
       "$locatorBell\n",
       ":   TRUE\n",
       "$mailer\n",
       ":   'mailto'\n",
       "$matprod\n",
       ":   'default'\n",
       "$max.print\n",
       ":   99999\n",
       "$menu.graphics\n",
       ":   TRUE\n",
       "$na.action\n",
       ":   'na.omit'\n",
       "$nwarnings\n",
       ":   50\n",
       "$OutDec\n",
       ":   '.'\n",
       "$pager\n",
       ":   ```r\n",
       "function (files, header, title, delete.file) \n",
       "{\n",
       "    text <- title\n",
       "    for (path in files) {\n",
       "        text <- c(text, header, readLines(path))\n",
       "    }\n",
       "    if (delete.file) \n",
       "        file.remove(files)\n",
       "    data <- list(`text/plain` = paste(text, collapse = \"\\n\"))\n",
       "    page(list(data = data, metadata = namedlist()))\n",
       "}\n",
       "```\n",
       "$papersize\n",
       ":   'a4'\n",
       "$PCRE_limit_recursion\n",
       ":   &lt;NA&gt;\n",
       "$PCRE_study\n",
       ":   10\n",
       "$PCRE_use_JIT\n",
       ":   TRUE\n",
       "$pdfviewer\n",
       ":   '/usr/bin/xdg-open'\n",
       "$pkgType\n",
       ":   'source'\n",
       "$printcmd\n",
       ":   '/usr/bin/lpr'\n",
       "$prompt\n",
       ":   '&gt; '\n",
       "$repos\n",
       ":   **CRAN:** 'https://cloud.r-project.org'\n",
       "$repr.function.highlight\n",
       ":   FALSE\n",
       "$repr.matrix.latex.colspec\n",
       ":   $row_head\n",
       ":   'r|'\n",
       "$col\n",
       ":   'l'\n",
       "$end\n",
       ":   ''\n",
       "\n",
       "\n",
       "\n",
       "$repr.matrix.max.cols\n",
       ":   20\n",
       "$repr.matrix.max.rows\n",
       ":   60\n",
       "$repr.plot.antialias\n",
       ":   'gray'\n",
       "$repr.plot.bg\n",
       ":   'white'\n",
       "$repr.plot.family\n",
       ":   'sans'\n",
       "$repr.plot.height\n",
       ":   7\n",
       "$repr.plot.pointsize\n",
       ":   12\n",
       "$repr.plot.quality\n",
       ":   90\n",
       "$repr.plot.res\n",
       ":   120\n",
       "$repr.plot.width\n",
       ":   7\n",
       "$repr.vector.quote\n",
       ":   TRUE\n",
       "$rl_word_breaks\n",
       ":   ' \\t\\n\"\\\\\\'`&gt;&lt;=%;,|&amp;{()}'\n",
       "$scipen\n",
       ":   0\n",
       "$show.coef.Pvalues\n",
       ":   TRUE\n",
       "$showErrorCalls\n",
       ":   TRUE\n",
       "$show.error.messages\n",
       ":   TRUE\n",
       "$show.signif.stars\n",
       ":   TRUE\n",
       "$str\n",
       ":   $strict.width\n",
       ":   'no'\n",
       "$digits.d\n",
       ":   3\n",
       "$vec.len\n",
       ":   4\n",
       "\n",
       "\n",
       "\n",
       "$str.dendrogram.last\n",
       ":   '`'\n",
       "$stringsAsFactors\n",
       ":   TRUE\n",
       "$texi2dvi\n",
       ":   '/usr/bin/texi2dvi'\n",
       "$timeout\n",
       ":   60\n",
       "$ts.eps\n",
       ":   1e-05\n",
       "$ts.S.compat\n",
       ":   FALSE\n",
       "$unzip\n",
       ":   '/usr/bin/unzip'\n",
       "$useFancyQuotes\n",
       ":   TRUE\n",
       "$verbose\n",
       ":   FALSE\n",
       "$warn\n",
       ":   0\n",
       "$warning.length\n",
       ":   1000\n",
       "$width\n",
       ":   80\n",
       "\n",
       "\n"
      ],
      "text/plain": [
       "$add.smooth\n",
       "[1] TRUE\n",
       "\n",
       "$bitmapType\n",
       "[1] \"cairo\"\n",
       "\n",
       "$browser\n",
       "[1] \"xdg-open\"\n",
       "\n",
       "$browserNLdisabled\n",
       "[1] FALSE\n",
       "\n",
       "$CBoundsCheck\n",
       "[1] FALSE\n",
       "\n",
       "$check.bounds\n",
       "[1] FALSE\n",
       "\n",
       "$citation.bibtex.max\n",
       "[1] 1\n",
       "\n",
       "$continue\n",
       "[1] \"+ \"\n",
       "\n",
       "$contrasts\n",
       "        unordered           ordered \n",
       "\"contr.treatment\"      \"contr.poly\" \n",
       "\n",
       "$defaultPackages\n",
       "[1] \"datasets\"  \"utils\"     \"grDevices\" \"graphics\"  \"stats\"     \"methods\"  \n",
       "\n",
       "$demo.ask\n",
       "[1] \"default\"\n",
       "\n",
       "$deparse.cutoff\n",
       "[1] 60\n",
       "\n",
       "$device\n",
       "function (filename = null_filename, ...) \n",
       "ok_device(filename, ...)\n",
       "<environment: 0x1d40320>\n",
       "\n",
       "$device.ask.default\n",
       "[1] FALSE\n",
       "\n",
       "$digits\n",
       "[1] 7\n",
       "\n",
       "$dvipscmd\n",
       "[1] \"dvips\"\n",
       "\n",
       "$echo\n",
       "[1] FALSE\n",
       "\n",
       "$editor\n",
       "[1] \"vi\"\n",
       "\n",
       "$encoding\n",
       "[1] \"native.enc\"\n",
       "\n",
       "$example.ask\n",
       "[1] \"default\"\n",
       "\n",
       "$expressions\n",
       "[1] 5000\n",
       "\n",
       "$help.search.types\n",
       "[1] \"vignette\" \"demo\"     \"help\"    \n",
       "\n",
       "$help.try.all.packages\n",
       "[1] FALSE\n",
       "\n",
       "$HTTPUserAgent\n",
       "[1] \"R (3.4.4 x86_64-pc-linux-gnu x86_64 linux-gnu)\"\n",
       "\n",
       "$internet.info\n",
       "[1] 2\n",
       "\n",
       "$jupyter.base_display_func\n",
       "function (data, metadata = NULL) \n",
       "{\n",
       "    if (is.null(metadata)) {\n",
       "        metadata <- namedlist()\n",
       "    }\n",
       "    send_response(\"display_data\", current_request, \"iopub\", list(data = data, \n",
       "        metadata = metadata))\n",
       "    invisible(TRUE)\n",
       "}\n",
       "<environment: 0x2acdec0>\n",
       "attr(,\"mayCall\")\n",
       "character(0)\n",
       "attr(,\"name\")\n",
       "[1] \"display_data\"\n",
       "attr(,\"refClassName\")\n",
       "[1] \"Executor\"\n",
       "attr(,\"superClassMethod\")\n",
       "[1] \"\"\n",
       "attr(,\"class\")\n",
       "[1] \"refMethodDef\"\n",
       "attr(,\"class\")attr(,\"package\")\n",
       "[1] \"methods\"\n",
       "\n",
       "$jupyter.display_mimetypes\n",
       " [1] \"text/plain\"             \"text/html\"              \"text/markdown\"         \n",
       " [4] \"text/latex\"             \"application/json\"       \"application/javascript\"\n",
       " [7] \"application/pdf\"        \"image/png\"              \"image/jpeg\"            \n",
       "[10] \"image/svg+xml\"         \n",
       "\n",
       "$jupyter.in_kernel\n",
       "[1] TRUE\n",
       "\n",
       "$jupyter.logfile\n",
       "[1] NA\n",
       "\n",
       "$jupyter.log_level\n",
       "[1] 1\n",
       "\n",
       "$jupyter.pager_classes\n",
       "[1] \"packageIQR\"            \"help_files_with_topic\"\n",
       "\n",
       "$jupyter.plot_mimetypes\n",
       "[1] \"text/plain\" \"image/png\" \n",
       "\n",
       "$jupyter.rich_display\n",
       "[1] TRUE\n",
       "\n",
       "$keep.source\n",
       "[1] FALSE\n",
       "\n",
       "$keep.source.pkgs\n",
       "[1] FALSE\n",
       "\n",
       "$locatorBell\n",
       "[1] TRUE\n",
       "\n",
       "$mailer\n",
       "[1] \"mailto\"\n",
       "\n",
       "$matprod\n",
       "[1] \"default\"\n",
       "\n",
       "$max.print\n",
       "[1] 99999\n",
       "\n",
       "$menu.graphics\n",
       "[1] TRUE\n",
       "\n",
       "$na.action\n",
       "[1] \"na.omit\"\n",
       "\n",
       "$nwarnings\n",
       "[1] 50\n",
       "\n",
       "$OutDec\n",
       "[1] \".\"\n",
       "\n",
       "$pager\n",
       "function (files, header, title, delete.file) \n",
       "{\n",
       "    text <- title\n",
       "    for (path in files) {\n",
       "        text <- c(text, header, readLines(path))\n",
       "    }\n",
       "    if (delete.file) \n",
       "        file.remove(files)\n",
       "    data <- list(`text/plain` = paste(text, collapse = \"\\n\"))\n",
       "    page(list(data = data, metadata = namedlist()))\n",
       "}\n",
       "<environment: 0x2886570>\n",
       "\n",
       "$papersize\n",
       "[1] \"a4\"\n",
       "\n",
       "$PCRE_limit_recursion\n",
       "[1] NA\n",
       "\n",
       "$PCRE_study\n",
       "[1] 10\n",
       "\n",
       "$PCRE_use_JIT\n",
       "[1] TRUE\n",
       "\n",
       "$pdfviewer\n",
       "[1] \"/usr/bin/xdg-open\"\n",
       "\n",
       "$pkgType\n",
       "[1] \"source\"\n",
       "\n",
       "$printcmd\n",
       "[1] \"/usr/bin/lpr\"\n",
       "\n",
       "$prompt\n",
       "[1] \"> \"\n",
       "\n",
       "$repos\n",
       "                         CRAN \n",
       "\"https://cloud.r-project.org\" \n",
       "\n",
       "$repr.function.highlight\n",
       "[1] FALSE\n",
       "\n",
       "$repr.matrix.latex.colspec\n",
       "$repr.matrix.latex.colspec$row_head\n",
       "[1] \"r|\"\n",
       "\n",
       "$repr.matrix.latex.colspec$col\n",
       "[1] \"l\"\n",
       "\n",
       "$repr.matrix.latex.colspec$end\n",
       "[1] \"\"\n",
       "\n",
       "\n",
       "$repr.matrix.max.cols\n",
       "[1] 20\n",
       "\n",
       "$repr.matrix.max.rows\n",
       "[1] 60\n",
       "\n",
       "$repr.plot.antialias\n",
       "[1] \"gray\"\n",
       "\n",
       "$repr.plot.bg\n",
       "[1] \"white\"\n",
       "\n",
       "$repr.plot.family\n",
       "[1] \"sans\"\n",
       "\n",
       "$repr.plot.height\n",
       "[1] 7\n",
       "\n",
       "$repr.plot.pointsize\n",
       "[1] 12\n",
       "\n",
       "$repr.plot.quality\n",
       "[1] 90\n",
       "\n",
       "$repr.plot.res\n",
       "[1] 120\n",
       "\n",
       "$repr.plot.width\n",
       "[1] 7\n",
       "\n",
       "$repr.vector.quote\n",
       "[1] TRUE\n",
       "\n",
       "$rl_word_breaks\n",
       "[1] \" \\t\\n\\\"\\\\'`><=%;,|&{()}\"\n",
       "\n",
       "$scipen\n",
       "[1] 0\n",
       "\n",
       "$show.coef.Pvalues\n",
       "[1] TRUE\n",
       "\n",
       "$showErrorCalls\n",
       "[1] TRUE\n",
       "\n",
       "$show.error.messages\n",
       "[1] TRUE\n",
       "\n",
       "$show.signif.stars\n",
       "[1] TRUE\n",
       "\n",
       "$str\n",
       "$str$strict.width\n",
       "[1] \"no\"\n",
       "\n",
       "$str$digits.d\n",
       "[1] 3\n",
       "\n",
       "$str$vec.len\n",
       "[1] 4\n",
       "\n",
       "\n",
       "$str.dendrogram.last\n",
       "[1] \"`\"\n",
       "\n",
       "$stringsAsFactors\n",
       "[1] TRUE\n",
       "\n",
       "$texi2dvi\n",
       "[1] \"/usr/bin/texi2dvi\"\n",
       "\n",
       "$timeout\n",
       "[1] 60\n",
       "\n",
       "$ts.eps\n",
       "[1] 1e-05\n",
       "\n",
       "$ts.S.compat\n",
       "[1] FALSE\n",
       "\n",
       "$unzip\n",
       "[1] \"/usr/bin/unzip\"\n",
       "\n",
       "$useFancyQuotes\n",
       "[1] TRUE\n",
       "\n",
       "$verbose\n",
       "[1] FALSE\n",
       "\n",
       "$warn\n",
       "[1] 0\n",
       "\n",
       "$warning.length\n",
       "[1] 1000\n",
       "\n",
       "$width\n",
       "[1] 80\n"
      ]
     },
     "metadata": {},
     "output_type": "display_data"
    }
   ],
   "source": [
    "options()\n",
    "#opcoes que voce pode mudar"
   ]
  },
  {
   "cell_type": "code",
   "execution_count": 9,
   "metadata": {},
   "outputs": [],
   "source": [
    "#history()\n",
    "#mostra os ultimos 25 comandos"
   ]
  },
  {
   "cell_type": "markdown",
   "metadata": {},
   "source": [
    "<p> <h2> About graphs </h2> </p>"
   ]
  },
  {
   "cell_type": "code",
   "execution_count": 1,
   "metadata": {},
   "outputs": [],
   "source": [
    "my_vector = c(25, 28, 29, 29)"
   ]
  },
  {
   "cell_type": "code",
   "execution_count": 6,
   "metadata": {},
   "outputs": [],
   "source": [
    "names(my_vector) = c(\"cats\",\"dogs\",\"horses\", \"mice\")"
   ]
  },
  {
   "cell_type": "code",
   "execution_count": 7,
   "metadata": {},
   "outputs": [
    {
     "data": {
      "image/png": "[encoded data removed]",
      "text/plain": [
       "Plot with title “Título”"
      ]
     },
     "metadata": {},
     "output_type": "display_data"
    }
   ],
   "source": [
    "pie(my_vector, main = \"Título\", col = rainbow(length(my_vector)))"
   ]
  },
  {
   "cell_type": "code",
   "execution_count": 7,
   "metadata": {},
   "outputs": [
    {
     "data": {
      "image/png": "[encoded data removed]",
      "text/plain": [
       "plot without title"
      ]
     },
     "metadata": {},
     "output_type": "display_data"
    }
   ],
   "source": [
    "barplot(my_vector)"
   ]
  },
  {
   "cell_type": "code",
   "execution_count": 21,
   "metadata": {},
   "outputs": [
    {
     "data": {
      "image/png": "[encoded data removed]",
      "text/plain": [
       "plot without title"
      ]
     },
     "metadata": {},
     "output_type": "display_data"
    },
    {
     "data": {
      "image/png": "[encoded data removed]",
      "text/plain": [
       "plot without title"
      ]
     },
     "metadata": {},
     "output_type": "display_data"
    }
   ],
   "source": [
    "#Boxplot (vai do min ate o max,o quadrado comeca no Q1 vai ate o Q3, \n",
    "#o treco no meio eh a mediana e se tiver, o outlier aparece como bolinha)\n",
    "new_vector = c(25,28,29,29,30,34,35,37,38, 80)\n",
    "#boxplot(new_vector)\n",
    "boxplot(new_vector, horizontal = TRUE)"
   ]
  },
  {
   "cell_type": "code",
   "execution_count": 17,
   "metadata": {},
   "outputs": [
    {
     "data": {
      "image/png": "[encoded data removed]",
      "text/plain": [
       "Plot with title “Histograma que eu mesma que fiz”"
      ]
     },
     "metadata": {},
     "output_type": "display_data"
    }
   ],
   "source": [
    "hist(new_vector, breaks = 8, main = \"Histograma que eu mesma que fiz\")"
   ]
  },
  {
   "cell_type": "markdown",
   "metadata": {},
   "source": [
    "<p> Pra calcular o intervalo de confianca, usar a libray(Publish) </p> "
   ]
  },
  {
   "cell_type": "code",
   "execution_count": 12,
   "metadata": {},
   "outputs": [],
   "source": [
    "#Aqui nao vai funcionar pq nao quero instalar a lib.\n",
    "#library(Publish)\n",
    "#ci.mean(total_costs)"
   ]
  },
  {
   "cell_type": "code",
   "execution_count": null,
   "metadata": {},
   "outputs": [],
   "source": []
  }
 ],
 "metadata": {
  "kernelspec": {
   "display_name": "R",
   "language": "R",
   "name": "ir"
  },
  "language_info": {
   "codemirror_mode": "r",
   "file_extension": ".r",
   "mimetype": "text/x-r-source",
   "name": "R",
   "pygments_lexer": "r",
   "version": "3.4.4"
  }
 },
 "nbformat": 4,
 "nbformat_minor": 2
}
